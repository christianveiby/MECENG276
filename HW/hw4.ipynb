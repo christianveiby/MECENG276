{
 "cells": [
  {
   "cell_type": "code",
   "execution_count": 124,
   "metadata": {
    "deletable": false,
    "editable": false
   },
   "outputs": [],
   "source": [
    "# Initialize Otter\n",
    "import otter\n",
    "grader = otter.Notebook(\"hw4.ipynb\")"
   ]
  },
  {
   "cell_type": "markdown",
   "metadata": {},
   "source": [
    "---\n",
    "\n",
    "<h1><center>SDSE Homework 4<br><br> Simple linear regression </center></h1>\n",
    "\n",
    "---"
   ]
  },
  {
   "cell_type": "code",
   "execution_count": 125,
   "metadata": {},
   "outputs": [],
   "source": [
    "import numpy as np\n",
    "import scipy.stats as stats\n",
    "import matplotlib.pyplot as plt\n",
    "import pickle\n",
    "import pandas as pd\n",
    "from resources.hashutils import *"
   ]
  },
  {
   "cell_type": "markdown",
   "metadata": {},
   "source": [
    "# 0. Load the data\n",
    "\n",
    "In this homework we will implement simple linear regression and apply it to four different datasets. \n",
    "\n",
    "All of the formulas can be found in the lecture and reader. \n",
    "\n",
    "The four datasets are contained in `hw3data.pickle`. Each dataset is a tuple with entries `x` and `y`:  `DA = (x,y)`."
   ]
  },
  {
   "cell_type": "code",
   "execution_count": 126,
   "metadata": {},
   "outputs": [],
   "source": [
    "with open('resources/hw4data.pickle','rb') as f:\n",
    "    DA, DB, DC, DD = pickle.load(f)"
   ]
  },
  {
   "cell_type": "markdown",
   "metadata": {
    "deletable": false,
    "editable": false
   },
   "source": [
    "# 1. Scatter plots\n",
    "\n",
    "Display each of the four datasets using matplotlib [scatter](https://matplotlib.org/stable/api/_as_gen/matplotlib.pyplot.scatter.html) plots. Your plot should look similar to the one below, with two rows and two columns of plots.  \n",
    "\n",
    "<img src=\"resources/f1.png\" />"
   ]
  },
  {
   "cell_type": "code",
   "execution_count": 127,
   "metadata": {
    "tags": []
   },
   "outputs": [
    {
     "data": {
      "text/plain": [
       "<matplotlib.collections.PathCollection at 0x79c13f9e0d50>"
      ]
     },
     "execution_count": 127,
     "metadata": {},
     "output_type": "execute_result"
    },
    {
     "data": {
      "image/png": "[encoded data removed]",
      "text/plain": [
       "<Figure size 640x480 with 4 Axes>"
      ]
     },
     "metadata": {},
     "output_type": "display_data"
    }
   ],
   "source": [
    "fig, ax = plt.subplots(nrows=2,ncols=2)\n",
    "ax[0,0].scatter(DA[0],DA[1],marker='.')\n",
    "ax[0,1].scatter(DB[0],DB[1],marker='.')\n",
    "ax[1,0].scatter(DC[0],DC[1],marker='.')\n",
    "ax[1,1].scatter(DD[0],DD[1],marker='.')"
   ]
  },
  {
   "cell_type": "markdown",
   "metadata": {
    "deletable": false,
    "editable": false
   },
   "source": [
    "# 2. Sample correlation coefficient\n",
    "\n",
    "Implement the function `corr(D)` that takes a dataset tuple `D` and returns its sample correlation coefficient $r$. "
   ]
  },
  {
   "cell_type": "code",
   "execution_count": 128,
   "metadata": {
    "tags": []
   },
   "outputs": [],
   "source": [
    "def corr(D):\n",
    "    x, y = D\n",
    "    sm_x = x.mean()\n",
    "    sm_y = y.mean()\n",
    "    r = (((x-sm_x)*(y-sm_y)).sum())/(np.sqrt(((x-sm_x)**2).sum())*np.sqrt(((y-sm_y)**2).sum()))\n",
    "    return r"
   ]
  },
  {
   "cell_type": "code",
   "execution_count": 129,
   "metadata": {
    "tags": []
   },
   "outputs": [
    {
     "name": "stdout",
     "output_type": "stream",
     "text": [
      "rA=-0.8099147715792737\n",
      "rB=0.938583470794401\n",
      "rC=-0.901091501635049\n",
      "rD=-0.08311748917950815\n"
     ]
    }
   ],
   "source": [
    "rA = corr(DA)\n",
    "rB = corr(DB)\n",
    "rC = corr(DC)\n",
    "rD = corr(DD)\n",
    "\n",
    "print(f'rA={rA}')\n",
    "print(f'rB={rB}')\n",
    "print(f'rC={rC}')\n",
    "print(f'rD={rD}')"
   ]
  },
  {
   "cell_type": "code",
   "execution_count": 130,
   "metadata": {
    "deletable": false,
    "editable": false
   },
   "outputs": [
    {
     "data": {
      "text/html": [
       "<p><strong><pre style='display: inline;'>q2</pre></strong> passed! 🙌</p>"
      ],
      "text/plain": [
       "q2 results: All test cases passed!"
      ]
     },
     "execution_count": 130,
     "metadata": {},
     "output_type": "execute_result"
    }
   ],
   "source": [
    "grader.check(\"q2\")"
   ]
  },
  {
   "cell_type": "markdown",
   "metadata": {
    "deletable": false,
    "editable": false
   },
   "source": [
    "# 3. Compute linear regresssion coefficients\n",
    "\n",
    "Implement the function `compute_linear_regression(D)` that takes a dataset tuple `D` and returns the coefficients of the linear regression $\\theta_0$ and $\\theta_1$. "
   ]
  },
  {
   "cell_type": "code",
   "execution_count": 131,
   "metadata": {
    "tags": []
   },
   "outputs": [],
   "source": [
    "def compute_linear_regression(D):\n",
    "    x, y = D\n",
    "    \n",
    "    muhatX = x.mean(axis=0)\n",
    "    muhatY = y.mean(axis=0)\n",
    "        \n",
    "    thetahat1 = (((x-muhatX)*(y-muhatY)).sum())/(((x-muhatX)**2).sum())\n",
    "    thetahat0 = muhatY - muhatX*thetahat1\n",
    "    return thetahat0, thetahat1"
   ]
  },
  {
   "cell_type": "code",
   "execution_count": 132,
   "metadata": {
    "tags": []
   },
   "outputs": [
    {
     "name": "stdout",
     "output_type": "stream",
     "text": [
      "A: (3.749057503898907, -0.0462178161454909)\n",
      "B: (0.9678247739262225, 0.21205965956389664)\n",
      "C: (127.14629626815378, -1.5443047558209406)\n",
      "D: (49.898312434885575, -0.013256989456468088)\n"
     ]
    }
   ],
   "source": [
    "thetahatA = compute_linear_regression(DA)\n",
    "thetahatB = compute_linear_regression(DB)\n",
    "thetahatC = compute_linear_regression(DC)\n",
    "thetahatD = compute_linear_regression(DD)\n",
    "\n",
    "print(f'A: {thetahatA}')\n",
    "print(f'B: {thetahatB}')\n",
    "print(f'C: {thetahatC}')\n",
    "print(f'D: {thetahatD}')"
   ]
  },
  {
   "cell_type": "code",
   "execution_count": 133,
   "metadata": {
    "deletable": false,
    "editable": false
   },
   "outputs": [
    {
     "data": {
      "text/html": [
       "<p><strong><pre style='display: inline;'>q3</pre></strong> passed! 🌈</p>"
      ],
      "text/plain": [
       "q3 results: All test cases passed!"
      ]
     },
     "execution_count": 133,
     "metadata": {},
     "output_type": "execute_result"
    }
   ],
   "source": [
    "grader.check(\"q3\")"
   ]
  },
  {
   "cell_type": "markdown",
   "metadata": {
    "deletable": false,
    "editable": false
   },
   "source": [
    "# 4. Evaluate linear regresssion prediction\n",
    "\n",
    "Implement the function `eval_linreg(theta,D)` that takes parameters $\\hat\\theta=(\\hat\\theta_0,\\hat\\theta_1)$ and the dataset `D=(x,y)` and returns the array of predictions $\\hat{y}$ for the training data: \n",
    "$$\\hat{y} = \\hat\\theta_0 + x \\hat\\theta_1$$"
   ]
  },
  {
   "cell_type": "code",
   "execution_count": 134,
   "metadata": {
    "tags": []
   },
   "outputs": [],
   "source": [
    "def eval_linreg(thetahat,D):\n",
    "    x, y = D\n",
    "    thetahat0, thetahat1 = thetahat\n",
    "    y_hat = thetahat0 + x*thetahat1\n",
    "    return y_hat"
   ]
  },
  {
   "cell_type": "code",
   "execution_count": 135,
   "metadata": {
    "tags": []
   },
   "outputs": [
    {
     "name": "stdout",
     "output_type": "stream",
     "text": [
      "yhatA[:20:3]=[3.98923839 3.73908805 3.4193214  3.39071521 3.36528081 3.31764243\n",
      " 3.26114505]\n",
      "yhatB[:20:3]=[1.10744508 1.2380595  1.29750078 1.42506595 1.59110387 1.67990742\n",
      " 1.71890906]\n",
      "yhatC[:20:3]=[179.72584278 156.97516769 145.60977061 134.87236202 129.92229685\n",
      " 126.71703594 121.67884977]\n",
      "yhatD[:20:3]=[50.46531219 50.17274557 50.10828722 50.00413843 49.93722651 49.91523581\n",
      " 49.86076567]\n"
     ]
    }
   ],
   "source": [
    "yhatA = eval_linreg(thetahatA,DA)\n",
    "yhatB = eval_linreg(thetahatB,DB)\n",
    "yhatC = eval_linreg(thetahatC,DC)\n",
    "yhatD = eval_linreg(thetahatD,DD)\n",
    "\n",
    "print(f'yhatA[:20:3]={yhatA[:20:3]}')\n",
    "print(f'yhatB[:20:3]={yhatB[:20:3]}')\n",
    "print(f'yhatC[:20:3]={yhatC[:20:3]}')\n",
    "print(f'yhatD[:20:3]={yhatD[:20:3]}')"
   ]
  },
  {
   "cell_type": "code",
   "execution_count": 136,
   "metadata": {
    "deletable": false,
    "editable": false
   },
   "outputs": [
    {
     "data": {
      "text/html": [
       "<p><strong><pre style='display: inline;'>q4</pre></strong> passed! 🌟</p>"
      ],
      "text/plain": [
       "q4 results: All test cases passed!"
      ]
     },
     "execution_count": 136,
     "metadata": {},
     "output_type": "execute_result"
    }
   ],
   "source": [
    "grader.check(\"q4\")"
   ]
  },
  {
   "cell_type": "markdown",
   "metadata": {
    "deletable": false,
    "editable": false
   },
   "source": [
    "# 5. Plot linear regresssion prediction\n",
    "\n",
    "Overlay the linear regression lines on each one of the scatter plots. Your plot should look like this:\n",
    "\n",
    "<img src=\"resources/f2.png\" />"
   ]
  },
  {
   "cell_type": "code",
   "execution_count": 137,
   "metadata": {
    "tags": []
   },
   "outputs": [
    {
     "data": {
      "text/plain": [
       "[<matplotlib.lines.Line2D at 0x79c13d61c250>]"
      ]
     },
     "execution_count": 137,
     "metadata": {},
     "output_type": "execute_result"
    },
    {
     "data": {
      "image/png": "[encoded data removed]",
      "text/plain": [
       "<Figure size 1200x800 with 4 Axes>"
      ]
     },
     "metadata": {},
     "output_type": "display_data"
    }
   ],
   "source": [
    "fig, ax = plt.subplots(figsize=(12,8),nrows=2,ncols=2)\n",
    "ax[0,0].scatter(DA[0],DA[1],color='k',marker='.')\n",
    "ax[0,0].plot(DA[0],yhatA,color=\"blue\")\n",
    "ax[0,1].scatter(DB[0],DB[1],color='k',marker='.')\n",
    "ax[0,1].plot(DB[0],yhatB,color=\"blue\")\n",
    "ax[1,0].scatter(DC[0],DC[1],color='k',marker='.')\n",
    "ax[1,0].plot(DC[0],yhatC,color=\"blue\")\n",
    "ax[1,1].scatter(DD[0],DD[1],color='k',marker='.')\n",
    "ax[1,1].plot(DD[0],yhatD,color=\"blue\")\n",
    "#..."
   ]
  },
  {
   "cell_type": "markdown",
   "metadata": {
    "deletable": false,
    "editable": false
   },
   "source": [
    "# 6. Coefficient of determinination\n",
    "\n",
    "Implement the function `eval_Rsquared(theta,D)` that takes parameters $\\hat\\theta=(\\hat\\theta_0,\\hat\\theta_1)$ and the dataset `D` and returns the coefficient of determination $R^2$. Verify the identity $R^2=r^2$\n"
   ]
  },
  {
   "cell_type": "code",
   "execution_count": 138,
   "metadata": {
    "tags": []
   },
   "outputs": [],
   "source": [
    "def eval_Rsquared(thetahat,D):\n",
    "    x, y = D\n",
    "    return 1 - (((y-eval_linreg(thetahat,D))**2).sum() / ((y-y.mean())**2).sum())"
   ]
  },
  {
   "cell_type": "code",
   "execution_count": 139,
   "metadata": {
    "tags": []
   },
   "outputs": [
    {
     "name": "stdout",
     "output_type": "stream",
     "text": [
      "RsquaredA=0.6559619372223071\n",
      "RsquaredB=0.8809389316484644\n",
      "RsquaredC=0.8119658943189078\n",
      "RsquaredD=0.006908517007505277\n"
     ]
    }
   ],
   "source": [
    "RsquaredA = eval_Rsquared(thetahatA,DA)\n",
    "RsquaredB = eval_Rsquared(thetahatB,DB)\n",
    "RsquaredC = eval_Rsquared(thetahatC,DC)\n",
    "RsquaredD = eval_Rsquared(thetahatD,DD)\n",
    "\n",
    "print(f'RsquaredA={RsquaredA}')\n",
    "print(f'RsquaredB={RsquaredB}')\n",
    "print(f'RsquaredC={RsquaredC}')\n",
    "print(f'RsquaredD={RsquaredD}')"
   ]
  },
  {
   "cell_type": "code",
   "execution_count": 140,
   "metadata": {
    "deletable": false,
    "editable": false
   },
   "outputs": [
    {
     "data": {
      "text/html": [
       "<p><strong><pre style='display: inline;'>q6</pre></strong> passed! 🙌</p>"
      ],
      "text/plain": [
       "q6 results: All test cases passed!"
      ]
     },
     "execution_count": 140,
     "metadata": {},
     "output_type": "execute_result"
    }
   ],
   "source": [
    "grader.check(\"q6\")"
   ]
  },
  {
   "cell_type": "markdown",
   "metadata": {
    "deletable": false,
    "editable": false
   },
   "source": [
    "# 7. Estimate $\\sigma^2$\n",
    "\n",
    "Implement the function `estimate_sigma2(theta,D)` that takes parameters $\\hat\\theta=(\\hat\\theta_0,\\hat\\theta_1)$ and the dataset `D` and returns an unbiased estimate of the variance $\\sigma^2$ of the uncertainty values $\\varepsilon_i$ in $y_i=\\theta_0 + x_i\\theta_1  + \\varepsilon_i$. \n",
    "\n",
    "$$\\hat\\sigma^2  = \\frac{1}{N-2} \\sum_{i=1}^{N} (y_i - \\hat{y}_i)^2$$"
   ]
  },
  {
   "cell_type": "code",
   "execution_count": 141,
   "metadata": {
    "tags": []
   },
   "outputs": [],
   "source": [
    "def estimate_sigma2(thetahat,D):\n",
    "    x, y = D\n",
    "    return (1/(len(y)-2))*((y-eval_linreg(thetahat,D))**2).sum()"
   ]
  },
  {
   "cell_type": "code",
   "execution_count": 142,
   "metadata": {
    "tags": []
   },
   "outputs": [
    {
     "name": "stdout",
     "output_type": "stream",
     "text": [
      "sigma2A=0.09628829214622489\n",
      "sigma2B=0.2082814866175884\n",
      "sigma2C=218.80072616698286\n",
      "sigma2D=11.604657865691147\n"
     ]
    }
   ],
   "source": [
    "sigma2hatA = estimate_sigma2(thetahatA,DA)\n",
    "sigma2hatB = estimate_sigma2(thetahatB,DB)\n",
    "sigma2hatC = estimate_sigma2(thetahatC,DC)\n",
    "sigma2hatD = estimate_sigma2(thetahatD,DD)\n",
    "\n",
    "print(f'sigma2A={sigma2hatA}')\n",
    "print(f'sigma2B={sigma2hatB}')\n",
    "print(f'sigma2C={sigma2hatC}')\n",
    "print(f'sigma2D={sigma2hatD}')"
   ]
  },
  {
   "cell_type": "code",
   "execution_count": 143,
   "metadata": {
    "deletable": false,
    "editable": false
   },
   "outputs": [
    {
     "data": {
      "text/html": [
       "<p><strong><pre style='display: inline;'>q7</pre></strong> passed! 🎉</p>"
      ],
      "text/plain": [
       "q7 results: All test cases passed!"
      ]
     },
     "execution_count": 143,
     "metadata": {},
     "output_type": "execute_result"
    }
   ],
   "source": [
    "grader.check(\"q7\")"
   ]
  },
  {
   "cell_type": "markdown",
   "metadata": {
    "deletable": false,
    "editable": false
   },
   "source": [
    "# 8. Uncertainty in the linear regression coefficients\n",
    "\n",
    "Implement the function `estimate_sigma2(theta,D)` that takes parameters $\\hat\\theta=(\\hat\\theta_0,\\hat\\theta_1)$ and the dataset `D` and returns the variance associated with the linear regression parameter estimates $Var[\\hat\\Theta_0]$ and $Var[\\hat\\Theta_1]$."
   ]
  },
  {
   "cell_type": "code",
   "execution_count": 144,
   "metadata": {
    "tags": []
   },
   "outputs": [],
   "source": [
    "def compute_var_param(thetahat,D):\n",
    "    x, y = D\n",
    "    sigma2 = estimate_sigma2(thetahat, D)\n",
    "    N = len(x)\n",
    "    \n",
    "    var1 = sigma2 / np.sum((x - x.mean()) ** 2)\n",
    "    var0 = sigma2 * (1 / N + (x.mean() ** 2) / np.sum((x - x.mean()) ** 2))\n",
    "    return var0, var1"
   ]
  },
  {
   "cell_type": "code",
   "execution_count": 145,
   "metadata": {
    "tags": []
   },
   "outputs": [
    {
     "name": "stdout",
     "output_type": "stream",
     "text": [
      "A: (0.004944706915203483, 1.143195797652658e-05)\n",
      "B: (0.008480394564633837, 6.201746581241882e-05)\n",
      "C: (4.5691174071390455, 0.005635582130422289)\n",
      "D: (0.21272847310590542, 0.00025779124994615524)\n"
     ]
    }
   ],
   "source": [
    "varA = compute_var_param(thetahatA,DA)\n",
    "varB = compute_var_param(thetahatB,DB)\n",
    "varC = compute_var_param(thetahatC,DC)\n",
    "varD = compute_var_param(thetahatD,DD)\n",
    "\n",
    "print(f'A: {varA}')\n",
    "print(f'B: {varB}')\n",
    "print(f'C: {varC}')\n",
    "print(f'D: {varD}')"
   ]
  },
  {
   "cell_type": "code",
   "execution_count": 146,
   "metadata": {
    "deletable": false,
    "editable": false
   },
   "outputs": [
    {
     "data": {
      "text/html": [
       "<p><strong><pre style='display: inline;'>q8</pre></strong> passed! 🙌</p>"
      ],
      "text/plain": [
       "q8 results: All test cases passed!"
      ]
     },
     "execution_count": 146,
     "metadata": {},
     "output_type": "execute_result"
    }
   ],
   "source": [
    "grader.check(\"q8\")"
   ]
  },
  {
   "cell_type": "markdown",
   "metadata": {
    "deletable": false,
    "editable": false
   },
   "source": [
    "# 9. Confidence intervals\n",
    "\n",
    "Implement the function `compute_rho(theta,D,gamma)` that takes parameters $\\hat\\theta=(\\hat\\theta_0,\\hat\\theta_1)$, the dataset `D`, and a confidence level $\\gamma$, and returns the radiuses $\\rho_0$ and $\\rho_1$ of the $\\gamma$-confidence intervals for $\\theta_0$ and $\\theta_1$ respectively. "
   ]
  },
  {
   "cell_type": "code",
   "execution_count": 171,
   "metadata": {
    "tags": []
   },
   "outputs": [],
   "source": [
    "def compute_rho(thetahat,D,gamma):\n",
    "    x, y = D\n",
    "    v0, v1 = compute_var_param(thetahat,D)\n",
    "    t_crit = stats.norm.ppf(1 - (1 - gamma) / 2)\n",
    "    rho0 = (v0**0.5)*t_crit\n",
    "    rho1 = (v1**0.5)*t_crit\n",
    "    return rho0, rho1"
   ]
  },
  {
   "cell_type": "code",
   "execution_count": 172,
   "metadata": {
    "tags": []
   },
   "outputs": [
    {
     "name": "stdout",
     "output_type": "stream",
     "text": [
      "rhoA=(0.16358554892650393, 0.007865656343192947)\n",
      "rhoB=(0.21423118381198697, 0.018320261402565527)\n",
      "rhoC=(4.97268348585844, 0.1746401315487988)\n",
      "rhoD=(1.072969728803447, 0.037351559940089984)\n"
     ]
    }
   ],
   "source": [
    "gamma = 0.98\n",
    "rhoA = compute_rho(thetahatA,DA,gamma)\n",
    "rhoB = compute_rho(thetahatB,DB,gamma)\n",
    "rhoC = compute_rho(thetahatC,DC,gamma)\n",
    "rhoD = compute_rho(thetahatD,DD,gamma)\n",
    "\n",
    "print(f'rhoA={rhoA}')\n",
    "print(f'rhoB={rhoB}')\n",
    "print(f'rhoC={rhoC}')\n",
    "print(f'rhoD={rhoD}')"
   ]
  },
  {
   "cell_type": "code",
   "execution_count": 173,
   "metadata": {
    "deletable": false,
    "editable": false
   },
   "outputs": [
    {
     "data": {
      "text/html": [
       "<p><strong><pre style='display: inline;'>q9</pre></strong> passed! 🌈</p>"
      ],
      "text/plain": [
       "q9 results: All test cases passed!"
      ]
     },
     "execution_count": 173,
     "metadata": {},
     "output_type": "execute_result"
    }
   ],
   "source": [
    "grader.check(\"q9\")"
   ]
  },
  {
   "cell_type": "markdown",
   "metadata": {
    "deletable": false,
    "editable": false
   },
   "source": [
    "# 10. Negligible parameters\n",
    "\n",
    "We consider a slope parameter to be considered \"negligible\" when it is close to zero. We define \"close\" as its 95\\% confidence interval including zero. Which of the 4 cases have negligible slope parameter? Provide your answer as a comma-separated string, e.g. `\"A,B\"`."
   ]
  },
  {
   "cell_type": "code",
   "execution_count": 180,
   "metadata": {
    "tags": []
   },
   "outputs": [
    {
     "name": "stdout",
     "output_type": "stream",
     "text": [
      "False\n",
      "False\n",
      "False\n",
      "True\n"
     ]
    }
   ],
   "source": [
    "def is_negligible(thetahat,D,gamma):\n",
    "    theta0, theta1 = thetahat\n",
    "    rho0, rho1 = compute_rho(thetahat,D,gamma)\n",
    "    \n",
    "    return theta1 - rho1 <= 0 <= theta1 + rho1\n",
    "gamma = 0.95\n",
    "print(is_negligible(thetahatA,DA,gamma))\n",
    "print(is_negligible(thetahatB,DB,gamma))\n",
    "print(is_negligible(thetahatC,DC,gamma))\n",
    "print(is_negligible(thetahatD,DD,gamma))\n",
    "answer = \"D\""
   ]
  },
  {
   "cell_type": "code",
   "execution_count": 181,
   "metadata": {
    "deletable": false,
    "editable": false
   },
   "outputs": [
    {
     "data": {
      "text/html": [
       "<p><strong><pre style='display: inline;'>q10</pre></strong> passed! 🚀</p>"
      ],
      "text/plain": [
       "q10 results: All test cases passed!"
      ]
     },
     "execution_count": 181,
     "metadata": {},
     "output_type": "execute_result"
    }
   ],
   "source": [
    "grader.check(\"q10\")"
   ]
  },
  {
   "cell_type": "markdown",
   "metadata": {
    "deletable": false,
    "editable": false
   },
   "source": [
    "# 11. Nonlinear feature vector\n",
    "\n",
    "The dataset `DA` looks like it could be modeled as an exponential decay. Let's use this insight to improve the regression model for this dataset. Define a feture vector `phi` with\n",
    "$$\\phi(x) = e^{\\lambda x}$$\n",
    "Using trial-and-error, find a value for $\\lambda$ that achieves an $R^2$ of 0.9 or more. "
   ]
  },
  {
   "cell_type": "code",
   "execution_count": 193,
   "metadata": {
    "tags": []
   },
   "outputs": [
    {
     "name": "stdout",
     "output_type": "stream",
     "text": [
      "0.9630537228092376\n"
     ]
    },
    {
     "data": {
      "text/plain": [
       "<matplotlib.legend.Legend at 0x79c13d0b1290>"
      ]
     },
     "execution_count": 193,
     "metadata": {},
     "output_type": "execute_result"
    },
    {
     "data": {
      "image/png": "[encoded data removed]",
      "text/plain": [
       "<Figure size 640x480 with 1 Axes>"
      ]
     },
     "metadata": {},
     "output_type": "display_data"
    }
   ],
   "source": [
    "lbda = -0.1\n",
    "x, y = DA\n",
    "phi = np.exp(lbda*x)\n",
    "DA2 = (phi,y)\n",
    "thetahatA2 = compute_linear_regression(DA2)\n",
    "RsquaredA2 = eval_Rsquared(thetahatA2,DA2)\n",
    "print(RsquaredA2)\n",
    "\n",
    "fig, ax = plt.subplots()\n",
    "ax.scatter(DA[0],DA[1],color='k',marker='.')\n",
    "ax.plot(DA[0],eval_linreg(thetahatA,DA),label='$R^2$={:.3f}'.format(RsquaredA))\n",
    "ax.plot(DA[0],eval_linreg(thetahatA2,DA2),'-',label='$R^2$={:.3f}'.format(RsquaredA2))\n",
    "ax.legend(fontsize=14)"
   ]
  },
  {
   "cell_type": "markdown",
   "metadata": {
    "deletable": false,
    "editable": false
   },
   "source": [
    "# 12. Prediction uncertainty\n",
    "\n",
    "\n",
    "Implement the function `compute_var_prediction(theta,D,gamma,xi)` that takes parameters $\\hat\\theta$, the dataset `D`, and a data sample $x_i$, and returns the variance in the prediction $\\hat{y}_i$ corresponding to $x_i$."
   ]
  },
  {
   "cell_type": "code",
   "execution_count": 203,
   "metadata": {
    "tags": []
   },
   "outputs": [],
   "source": [
    "def compute_var_prediction(thetahat,D,xi):\n",
    "    x, y = D\n",
    "    N = len(x)\n",
    "    theta0, theta1 = thetahat\n",
    "    \n",
    "    # Calculate the residual variance sigma^2\n",
    "    y_hat = eval_linreg(thetahat,D)\n",
    "    sigma2 = estimate_sigma2(thetahat,D)\n",
    "    \n",
    "    # Calculate the variance of the prediction at xi\n",
    "    x_mean = x.mean()\n",
    "    varYA = sigma2 * ((1 / N) + ((xi - x_mean) ** 2) / np.sum((x - x_mean) ** 2))\n",
    "    \n",
    "    return varYA"
   ]
  },
  {
   "cell_type": "code",
   "execution_count": 204,
   "metadata": {
    "tags": []
   },
   "outputs": [
    {
     "name": "stdout",
     "output_type": "stream",
     "text": [
      "stddevYA=[0.08643448 0.06966488 0.0498225  0.04820286 0.04679432 0.04424612\n",
      " 0.0414014 ]\n",
      "stddevYB=[0.08762327 0.08352081 0.08168098 0.07779715 0.07289334 0.07035215\n",
      " 0.06925625]\n",
      "stddevYC=[4.35776707 3.33866243 2.85387726 2.42265468 2.23691524 2.12253484\n",
      " 1.95435833]\n",
      "stddevYD=[1.05420215 0.72793851 0.65995923 0.55575209 0.49422517 0.47528383\n",
      " 0.43187652]\n"
     ]
    }
   ],
   "source": [
    "varYA = compute_var_prediction(thetahatA,DA,DA[0])\n",
    "stddevYA = np.sqrt(varYA)\n",
    "\n",
    "varYB = compute_var_prediction(thetahatB,DB,DB[0])\n",
    "stddevYB = np.sqrt(varYB)\n",
    "\n",
    "varYC = compute_var_prediction(thetahatC,DC,DC[0])\n",
    "stddevYC = np.sqrt(varYC)\n",
    "\n",
    "varYD = compute_var_prediction(thetahatD,DD,DD[0])\n",
    "stddevYD = np.sqrt(varYD)\n",
    "\n",
    "print(f'stddevYA={stddevYA[:20:3]}')\n",
    "print(f'stddevYB={stddevYB[:20:3]}')\n",
    "print(f'stddevYC={stddevYC[:20:3]}')\n",
    "print(f'stddevYD={stddevYD[:20:3]}')"
   ]
  },
  {
   "cell_type": "code",
   "execution_count": 205,
   "metadata": {
    "deletable": false,
    "editable": false
   },
   "outputs": [
    {
     "data": {
      "text/html": [
       "<p><strong><pre style='display: inline;'>q12</pre></strong> passed! 🎉</p>"
      ],
      "text/plain": [
       "q12 results: All test cases passed!"
      ]
     },
     "execution_count": 205,
     "metadata": {},
     "output_type": "execute_result"
    }
   ],
   "source": [
    "grader.check(\"q12\")"
   ]
  },
  {
   "cell_type": "markdown",
   "metadata": {
    "deletable": false,
    "editable": false
   },
   "source": [
    "# 13. Plot the prediction with uncertainty bounds\n",
    "\n",
    "Repeat the scatter and prediction plot, but this time overlay an prediction uncertainty band of plus/minus two standard deviations. Your plot should look something like this:\n",
    "\n",
    "<img src=\"resources/f3.png\" />\n"
   ]
  },
  {
   "cell_type": "code",
   "execution_count": 208,
   "metadata": {
    "tags": []
   },
   "outputs": [
    {
     "data": {
      "text/plain": [
       "Ellipsis"
      ]
     },
     "execution_count": 208,
     "metadata": {},
     "output_type": "execute_result"
    },
    {
     "data": {
      "image/png": "[encoded data removed]",
      "text/plain": [
       "<Figure size 1200x800 with 4 Axes>"
      ]
     },
     "metadata": {},
     "output_type": "display_data"
    }
   ],
   "source": [
    "fig, ax = plt.subplots(figsize=(12,8),nrows=2,ncols=2)\n",
    "\n",
    "a = ax[0,0]\n",
    "yhatA = eval_linreg(thetahatA,DA)\n",
    "a.scatter(DA[0],DA[1],color='k',marker='.')\n",
    "a.plot(DA[0],yhatA)\n",
    "a.fill_between(DA[0],yhatA-2*np.sqrt(varYA),yhatA+2*np.sqrt(varYA),alpha=0.5)\n",
    "\n",
    "b = ax[0,1]\n",
    "yhatA = eval_linreg(thetahatB,DB)\n",
    "b.scatter(DB[0],DB[1],color='k',marker='.')\n",
    "b.plot(DB[0],yhatB)\n",
    "b.fill_between(DB[0],yhatB-2*np.sqrt(varYB),yhatB+2*np.sqrt(varYB),alpha=0.5)\n",
    "\n",
    "c = ax[1,0]\n",
    "yhatC = eval_linreg(thetahatC,DC)\n",
    "c.scatter(DC[0],DC[1],color='k',marker='.')\n",
    "c.plot(DC[0],yhatC)\n",
    "c.fill_between(DC[0],yhatC-2*np.sqrt(varYC),yhatC+2*np.sqrt(varYC),alpha=0.5)\n",
    "\n",
    "d = ax[1,1]\n",
    "yhatD = eval_linreg(thetahatD,DD)\n",
    "d.scatter(DD[0],DD[1],color='k',marker='.')\n",
    "d.plot(DD[0],yhatD)\n",
    "d.fill_between(DD[0],yhatD-2*np.sqrt(varYD),yhatD+2*np.sqrt(varYD),alpha=0.5)\n",
    "\n",
    "..."
   ]
  },
  {
   "cell_type": "markdown",
   "metadata": {
    "deletable": false,
    "editable": false
   },
   "source": [
    "## Submission\n",
    "\n",
    "Make sure you have run all cells in your notebook in order before running the cell below, so that all images/graphs appear in the output. The cell below will generate a zip file for you to submit. **Please save before exporting!**\n",
    "\n",
    "Make sure you submit the .zip file to Gradescope."
   ]
  },
  {
   "cell_type": "code",
   "execution_count": null,
   "metadata": {
    "deletable": false,
    "editable": false
   },
   "outputs": [],
   "source": [
    "# Save your notebook first, then run this cell to export your submission.\n",
    "grader.export(pdf=False)"
   ]
  },
  {
   "cell_type": "markdown",
   "metadata": {},
   "source": [
    " "
   ]
  }
 ],
 "metadata": {
  "kernelspec": {
   "display_name": "Python 3 (ipykernel)",
   "language": "python",
   "name": "python3"
  },
  "language_info": {
   "codemirror_mode": {
    "name": "ipython",
    "version": 3
   },
   "file_extension": ".py",
   "mimetype": "text/x-python",
   "name": "python",
   "nbconvert_exporter": "python",
   "pygments_lexer": "ipython3",
   "version": "3.11.10"
  },
  "otter": {
   "OK_FORMAT": true,
   "assignment_name": "hw4",
   "tests": {
    "q10": {
     "name": "q10",
     "points": null,
     "suites": [
      {
       "cases": [
        {
         "code": ">>> get_hash(answer) == 'f623e75af30e62bbd73d6df5b50bb7b5'\nTrue",
         "hidden": false,
         "locked": false,
         "points": 1
        }
       ],
       "scored": true,
       "setup": "",
       "teardown": "",
       "type": "doctest"
      }
     ]
    },
    "q11": {
     "name": "q11",
     "points": null,
     "suites": [
      {
       "cases": [],
       "scored": true,
       "setup": "",
       "teardown": "",
       "type": "doctest"
      }
     ]
    },
    "q12": {
     "name": "q12",
     "points": null,
     "suites": [
      {
       "cases": [
        {
         "code": ">>> thetahatA = compute_linear_regression(DA)\n>>> varYA = compute_var_prediction(thetahatA, DA, DA[0])\n>>> get_hash(varYA, 4) == 'f4db257cd335e98f201ea47d8bf5966c'\nTrue",
         "hidden": false,
         "locked": false,
         "points": 1
        },
        {
         "code": ">>> thetahatB = compute_linear_regression(DB)\n>>> varYB = compute_var_prediction(thetahatB, DB, DB[0])\n>>> get_hash(varYB, 4) == '749dfa6987e7f0afe8125549d5a737c3'\nTrue",
         "hidden": false,
         "locked": false,
         "points": 1
        },
        {
         "code": ">>> thetahatC = compute_linear_regression(DC)\n>>> varYC = compute_var_prediction(thetahatC, DC, DC[0])\n>>> get_hash(varYC, 4) == '42abd98bfb3f757280a0b8cd904da0c5'\nTrue",
         "hidden": false,
         "locked": false,
         "points": 1
        },
        {
         "code": ">>> thetahatD = compute_linear_regression(DD)\n>>> varYD = compute_var_prediction(thetahatD, DD, DD[0])\n>>> get_hash(varYD, 4) == '503b0a53d842c647d84a456dc4ff9434'\nTrue",
         "hidden": false,
         "locked": false,
         "points": 1
        }
       ],
       "scored": true,
       "setup": "",
       "teardown": "",
       "type": "doctest"
      }
     ]
    },
    "q2": {
     "name": "q2",
     "points": null,
     "suites": [
      {
       "cases": [
        {
         "code": ">>> bool(np.isclose(rA, -0.8099147715792736, 0.001))\nTrue",
         "hidden": false,
         "locked": false,
         "points": 0
        },
        {
         "code": ">>> get_hash(rB, 4) == '835a2b7b610ff0f3cbc96d7b636415b7'\nTrue",
         "hidden": false,
         "locked": false,
         "points": 1
        }
       ],
       "scored": true,
       "setup": "",
       "teardown": "",
       "type": "doctest"
      }
     ]
    },
    "q3": {
     "name": "q3",
     "points": null,
     "suites": [
      {
       "cases": [
        {
         "code": ">>> thetahatA = compute_linear_regression(DA)\n>>> get_hash(thetahatA, 4) == 'ef0f6da7edfcca4e28195f3a4d30a793'\nTrue",
         "hidden": false,
         "locked": false,
         "points": 1
        },
        {
         "code": ">>> thetahatB = compute_linear_regression(DB)\n>>> get_hash(thetahatB, 4) == '53bdcb310916d5082434d92adecf9ec5'\nTrue",
         "hidden": false,
         "locked": false,
         "points": 1
        },
        {
         "code": ">>> thetahatC = compute_linear_regression(DC)\n>>> get_hash(thetahatC, 4) == '34147028d6b5b5da4d98154e73ec4888'\nTrue",
         "hidden": false,
         "locked": false,
         "points": 1
        },
        {
         "code": ">>> thetahatD = compute_linear_regression(DD)\n>>> get_hash(thetahatD, 4) == 'd24429496a8468962395ba9d00e40c20'\nTrue",
         "hidden": false,
         "locked": false,
         "points": 1
        }
       ],
       "scored": true,
       "setup": "",
       "teardown": "",
       "type": "doctest"
      }
     ]
    },
    "q4": {
     "name": "q4",
     "points": null,
     "suites": [
      {
       "cases": [
        {
         "code": ">>> thetahatA = compute_linear_regression(DA)\n>>> yhatA = eval_linreg(thetahatA, DA)\n>>> get_hash(yhatA, 4) == '85c6f31c18559d1d6a77afb2394cdbc9'\nTrue",
         "hidden": false,
         "locked": false,
         "points": 1
        },
        {
         "code": ">>> thetahatB = compute_linear_regression(DB)\n>>> yhatB = eval_linreg(thetahatB, DB)\n>>> get_hash(yhatB, 4) == 'b9a8973df0ca79c46ef2b71b4c702ae2'\nTrue",
         "hidden": false,
         "locked": false,
         "points": 1
        },
        {
         "code": ">>> thetahatC = compute_linear_regression(DC)\n>>> yhatC = eval_linreg(thetahatC, DC)\n>>> get_hash(yhatC, 4) == '8bd3f7c0bf9cc0cfbf30f5bdbd78457e'\nTrue",
         "hidden": false,
         "locked": false,
         "points": 1
        },
        {
         "code": ">>> thetahatD = compute_linear_regression(DD)\n>>> yhatD = eval_linreg(thetahatD, DD)\n>>> get_hash(yhatD, 4) == 'c2a4783c823ea82124b3db5b4ddbe762'\nTrue",
         "hidden": false,
         "locked": false,
         "points": 1
        }
       ],
       "scored": true,
       "setup": "",
       "teardown": "",
       "type": "doctest"
      }
     ]
    },
    "q6": {
     "name": "q6",
     "points": null,
     "suites": [
      {
       "cases": [
        {
         "code": ">>> thetahatA = compute_linear_regression(DA)\n>>> RsquaredA = eval_Rsquared(thetahatA, DA)\n>>> get_hash(RsquaredA, 4) == 'a342403c381016c41ecbc12123699daa'\nTrue",
         "hidden": false,
         "locked": false,
         "points": 1
        },
        {
         "code": ">>> thetahatB = compute_linear_regression(DB)\n>>> RsquaredB = eval_Rsquared(thetahatB, DB)\n>>> get_hash(RsquaredB, 4) == '9bb31e2afd1462aac7abc171d7533791'\nTrue",
         "hidden": false,
         "locked": false,
         "points": 1
        },
        {
         "code": ">>> thetahatC = compute_linear_regression(DC)\n>>> RsquaredC = eval_Rsquared(thetahatC, DC)\n>>> get_hash(RsquaredC, 4) == '9637bf59ecb1b3c0d15f8e1628a083f4'\nTrue",
         "hidden": false,
         "locked": false,
         "points": 1
        },
        {
         "code": ">>> thetahatD = compute_linear_regression(DD)\n>>> RsquaredD = eval_Rsquared(thetahatD, DD)\n>>> get_hash(RsquaredD, 4) == '608bbf3ac101b1f6da9ee89f11e8e564'\nTrue",
         "hidden": false,
         "locked": false,
         "points": 1
        }
       ],
       "scored": true,
       "setup": "",
       "teardown": "",
       "type": "doctest"
      }
     ]
    },
    "q7": {
     "name": "q7",
     "points": null,
     "suites": [
      {
       "cases": [
        {
         "code": ">>> thetahatA = compute_linear_regression(DA)\n>>> sigma2hatA = estimate_sigma2(thetahatA, DA)\n>>> get_hash(sigma2hatA, 4) == '453bf4d9934d0e3874a71cff19ba92bd'\nTrue",
         "hidden": false,
         "locked": false,
         "points": 1
        },
        {
         "code": ">>> thetahatB = compute_linear_regression(DB)\n>>> sigma2hatB = estimate_sigma2(thetahatB, DB)\n>>> get_hash(sigma2hatB, 4) == 'd7220b6c2c60895fd32ffff7577b6c95'\nTrue",
         "hidden": false,
         "locked": false,
         "points": 1
        },
        {
         "code": ">>> thetahatC = compute_linear_regression(DC)\n>>> sigma2hatC = estimate_sigma2(thetahatC, DC)\n>>> get_hash(sigma2hatC, 4) == '06265845401f290b89a5a6717fe6e546'\nTrue",
         "hidden": false,
         "locked": false,
         "points": 1
        },
        {
         "code": ">>> thetahatD = compute_linear_regression(DD)\n>>> sigma2hatD = estimate_sigma2(thetahatD, DD)\n>>> get_hash(sigma2hatD, 4) == '36552b079970ffb2dd1314115af76c4b'\nTrue",
         "hidden": false,
         "locked": false,
         "points": 1
        }
       ],
       "scored": true,
       "setup": "",
       "teardown": "",
       "type": "doctest"
      }
     ]
    },
    "q8": {
     "name": "q8",
     "points": null,
     "suites": [
      {
       "cases": [
        {
         "code": ">>> thetahatA = compute_linear_regression(DA)\n>>> varA = compute_var_param(thetahatA, DA)\n>>> get_hash(varA, 4) == '8743af846095cf842181add140dc8a82'\nTrue",
         "hidden": false,
         "locked": false,
         "points": 1
        },
        {
         "code": ">>> thetahatA = compute_linear_regression(DB)\n>>> varB = compute_var_param(thetahatB, DB)\n>>> get_hash(varB, 4) == '9812d81a6797c0711fae0fe51455a37f'\nTrue",
         "hidden": false,
         "locked": false,
         "points": 1
        },
        {
         "code": ">>> thetahatC = compute_linear_regression(DC)\n>>> varC = compute_var_param(thetahatC, DC)\n>>> get_hash(varC, 4) == 'edd0658c956ba0f360a012c107c3de14'\nTrue",
         "hidden": false,
         "locked": false,
         "points": 1
        },
        {
         "code": ">>> thetahatD = compute_linear_regression(DD)\n>>> varD = compute_var_param(thetahatD, DD)\n>>> get_hash(varD, 4) == '9cf6ea9abf256bd7144bc5bc753f3d80'\nTrue",
         "hidden": false,
         "locked": false,
         "points": 1
        }
       ],
       "scored": true,
       "setup": "",
       "teardown": "",
       "type": "doctest"
      }
     ]
    },
    "q9": {
     "name": "q9",
     "points": null,
     "suites": [
      {
       "cases": [
        {
         "code": ">>> thetahatA = compute_linear_regression(DA)\n>>> rhoA = compute_rho(thetahatA, DA, gamma)\n>>> get_hash(rhoA, 4) == '61fb843f8c14617d0e3c7ac9e976d81c'\nTrue",
         "hidden": false,
         "locked": false,
         "points": 1
        },
        {
         "code": ">>> thetahatB = compute_linear_regression(DB)\n>>> rhoB = compute_rho(thetahatB, DB, gamma)\n>>> get_hash(rhoB, 4) == '265119261e682e2d5e667810484596bd'\nTrue",
         "hidden": false,
         "locked": false,
         "points": 1
        },
        {
         "code": ">>> thetahatC = compute_linear_regression(DC)\n>>> rhoC = compute_rho(thetahatC, DC, gamma)\n>>> get_hash(rhoC, 4) == 'd2ccbeed10d93b3bae5c2b7bcf0fff75'\nTrue",
         "hidden": false,
         "locked": false,
         "points": 1
        },
        {
         "code": ">>> thetahatD = compute_linear_regression(DD)\n>>> rhoD = compute_rho(thetahatD, DD, gamma)\n>>> get_hash(rhoD, 4) == 'ebf3a54b7e494cd7b2d856545b58a488'\nTrue",
         "hidden": false,
         "locked": false,
         "points": 1
        }
       ],
       "scored": true,
       "setup": "",
       "teardown": "",
       "type": "doctest"
      }
     ]
    }
   }
  }
 },
 "nbformat": 4,
 "nbformat_minor": 4
}
